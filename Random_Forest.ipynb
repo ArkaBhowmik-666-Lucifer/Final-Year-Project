{
  "nbformat": 4,
  "nbformat_minor": 0,
  "metadata": {
    "colab": {
      "name": "Random_Forest.ipynb",
      "provenance": [],
      "mount_file_id": "1M1JiI-iiuy6GyOfC5OYjbON8-iR1MFjx",
      "authorship_tag": "ABX9TyOmk/cXwcwrCytdoIdJKLl9",
      "include_colab_link": true
    },
    "kernelspec": {
      "name": "python3",
      "display_name": "Python 3"
    },
    "language_info": {
      "name": "python"
    }
  },
  "cells": [
    {
      "cell_type": "markdown",
      "metadata": {
        "id": "view-in-github",
        "colab_type": "text"
      },
      "source": [
        "<a href=\"https://colab.research.google.com/github/ArkaBhowmik-666-Lucifer/StrawHats/blob/main/Random_Forest.ipynb\" target=\"_parent\"><img src=\"https://colab.research.google.com/assets/colab-badge.svg\" alt=\"Open In Colab\"/></a>"
      ]
    },
    {
      "cell_type": "code",
      "source": [
        "!pip install streamlit --quiet\n",
        "!pip install pyngrok==4.1.1 --quiet"
      ],
      "metadata": {
        "id": "JZx6II7TB-I9"
      },
      "execution_count": 69,
      "outputs": []
    },
    {
      "cell_type": "code",
      "execution_count": 70,
      "metadata": {
        "id": "drn18EiXvX2W"
      },
      "outputs": [],
      "source": [
        "from __future__ import print_function\n",
        "import pandas as pd\n",
        "import numpy as np\n",
        "import matplotlib.pyplot as plt\n",
        "import seaborn as sns\n",
        "from sklearn.metrics import classification_report\n",
        "from sklearn import metrics\n",
        "from sklearn import tree\n",
        "import warnings\n",
        "warnings.filterwarnings('ignore')\n",
        "import pickle\n",
        "from pyngrok import ngrok\n",
        "import os"
      ]
    },
    {
      "cell_type": "code",
      "source": [
        "df=pd.read_excel(\"/content/drive/MyDrive/Madara_Time/Crop Recommendation.xlsx\")"
      ],
      "metadata": {
        "id": "jBTuuN8yz6EJ"
      },
      "execution_count": 71,
      "outputs": []
    },
    {
      "cell_type": "code",
      "source": [
        "df.head()"
      ],
      "metadata": {
        "colab": {
          "base_uri": "https://localhost:8080/",
          "height": 206
        },
        "id": "dVPJJ_Ls3KE8",
        "outputId": "8eca1ae1-1e66-4ef4-cd49-9f0f1370e5bc"
      },
      "execution_count": 72,
      "outputs": [
        {
          "output_type": "execute_result",
          "data": {
            "text/plain": [
              "   Temperature   Humidity        pH    Rainfall Label\n",
              "0    20.879744  82.002744  6.502985  202.935536  Rice\n",
              "1    21.770462  80.319644  7.038096  226.655537  Rice\n",
              "2    23.004459  82.320763  7.840207  263.964248  Rice\n",
              "3    26.491096  80.158363  6.980401  242.864034  Rice\n",
              "4    20.130175  81.604873  7.628473  262.717340  Rice"
            ],
            "text/html": [
              "\n",
              "  <div id=\"df-25412b75-bb2c-4716-a03d-9d9f6611a328\">\n",
              "    <div class=\"colab-df-container\">\n",
              "      <div>\n",
              "<style scoped>\n",
              "    .dataframe tbody tr th:only-of-type {\n",
              "        vertical-align: middle;\n",
              "    }\n",
              "\n",
              "    .dataframe tbody tr th {\n",
              "        vertical-align: top;\n",
              "    }\n",
              "\n",
              "    .dataframe thead th {\n",
              "        text-align: right;\n",
              "    }\n",
              "</style>\n",
              "<table border=\"1\" class=\"dataframe\">\n",
              "  <thead>\n",
              "    <tr style=\"text-align: right;\">\n",
              "      <th></th>\n",
              "      <th>Temperature</th>\n",
              "      <th>Humidity</th>\n",
              "      <th>pH</th>\n",
              "      <th>Rainfall</th>\n",
              "      <th>Label</th>\n",
              "    </tr>\n",
              "  </thead>\n",
              "  <tbody>\n",
              "    <tr>\n",
              "      <th>0</th>\n",
              "      <td>20.879744</td>\n",
              "      <td>82.002744</td>\n",
              "      <td>6.502985</td>\n",
              "      <td>202.935536</td>\n",
              "      <td>Rice</td>\n",
              "    </tr>\n",
              "    <tr>\n",
              "      <th>1</th>\n",
              "      <td>21.770462</td>\n",
              "      <td>80.319644</td>\n",
              "      <td>7.038096</td>\n",
              "      <td>226.655537</td>\n",
              "      <td>Rice</td>\n",
              "    </tr>\n",
              "    <tr>\n",
              "      <th>2</th>\n",
              "      <td>23.004459</td>\n",
              "      <td>82.320763</td>\n",
              "      <td>7.840207</td>\n",
              "      <td>263.964248</td>\n",
              "      <td>Rice</td>\n",
              "    </tr>\n",
              "    <tr>\n",
              "      <th>3</th>\n",
              "      <td>26.491096</td>\n",
              "      <td>80.158363</td>\n",
              "      <td>6.980401</td>\n",
              "      <td>242.864034</td>\n",
              "      <td>Rice</td>\n",
              "    </tr>\n",
              "    <tr>\n",
              "      <th>4</th>\n",
              "      <td>20.130175</td>\n",
              "      <td>81.604873</td>\n",
              "      <td>7.628473</td>\n",
              "      <td>262.717340</td>\n",
              "      <td>Rice</td>\n",
              "    </tr>\n",
              "  </tbody>\n",
              "</table>\n",
              "</div>\n",
              "      <button class=\"colab-df-convert\" onclick=\"convertToInteractive('df-25412b75-bb2c-4716-a03d-9d9f6611a328')\"\n",
              "              title=\"Convert this dataframe to an interactive table.\"\n",
              "              style=\"display:none;\">\n",
              "        \n",
              "  <svg xmlns=\"http://www.w3.org/2000/svg\" height=\"24px\"viewBox=\"0 0 24 24\"\n",
              "       width=\"24px\">\n",
              "    <path d=\"M0 0h24v24H0V0z\" fill=\"none\"/>\n",
              "    <path d=\"M18.56 5.44l.94 2.06.94-2.06 2.06-.94-2.06-.94-.94-2.06-.94 2.06-2.06.94zm-11 1L8.5 8.5l.94-2.06 2.06-.94-2.06-.94L8.5 2.5l-.94 2.06-2.06.94zm10 10l.94 2.06.94-2.06 2.06-.94-2.06-.94-.94-2.06-.94 2.06-2.06.94z\"/><path d=\"M17.41 7.96l-1.37-1.37c-.4-.4-.92-.59-1.43-.59-.52 0-1.04.2-1.43.59L10.3 9.45l-7.72 7.72c-.78.78-.78 2.05 0 2.83L4 21.41c.39.39.9.59 1.41.59.51 0 1.02-.2 1.41-.59l7.78-7.78 2.81-2.81c.8-.78.8-2.07 0-2.86zM5.41 20L4 18.59l7.72-7.72 1.47 1.35L5.41 20z\"/>\n",
              "  </svg>\n",
              "      </button>\n",
              "      \n",
              "  <style>\n",
              "    .colab-df-container {\n",
              "      display:flex;\n",
              "      flex-wrap:wrap;\n",
              "      gap: 12px;\n",
              "    }\n",
              "\n",
              "    .colab-df-convert {\n",
              "      background-color: #E8F0FE;\n",
              "      border: none;\n",
              "      border-radius: 50%;\n",
              "      cursor: pointer;\n",
              "      display: none;\n",
              "      fill: #1967D2;\n",
              "      height: 32px;\n",
              "      padding: 0 0 0 0;\n",
              "      width: 32px;\n",
              "    }\n",
              "\n",
              "    .colab-df-convert:hover {\n",
              "      background-color: #E2EBFA;\n",
              "      box-shadow: 0px 1px 2px rgba(60, 64, 67, 0.3), 0px 1px 3px 1px rgba(60, 64, 67, 0.15);\n",
              "      fill: #174EA6;\n",
              "    }\n",
              "\n",
              "    [theme=dark] .colab-df-convert {\n",
              "      background-color: #3B4455;\n",
              "      fill: #D2E3FC;\n",
              "    }\n",
              "\n",
              "    [theme=dark] .colab-df-convert:hover {\n",
              "      background-color: #434B5C;\n",
              "      box-shadow: 0px 1px 3px 1px rgba(0, 0, 0, 0.15);\n",
              "      filter: drop-shadow(0px 1px 2px rgba(0, 0, 0, 0.3));\n",
              "      fill: #FFFFFF;\n",
              "    }\n",
              "  </style>\n",
              "\n",
              "      <script>\n",
              "        const buttonEl =\n",
              "          document.querySelector('#df-25412b75-bb2c-4716-a03d-9d9f6611a328 button.colab-df-convert');\n",
              "        buttonEl.style.display =\n",
              "          google.colab.kernel.accessAllowed ? 'block' : 'none';\n",
              "\n",
              "        async function convertToInteractive(key) {\n",
              "          const element = document.querySelector('#df-25412b75-bb2c-4716-a03d-9d9f6611a328');\n",
              "          const dataTable =\n",
              "            await google.colab.kernel.invokeFunction('convertToInteractive',\n",
              "                                                     [key], {});\n",
              "          if (!dataTable) return;\n",
              "\n",
              "          const docLinkHtml = 'Like what you see? Visit the ' +\n",
              "            '<a target=\"_blank\" href=https://colab.research.google.com/notebooks/data_table.ipynb>data table notebook</a>'\n",
              "            + ' to learn more about interactive tables.';\n",
              "          element.innerHTML = '';\n",
              "          dataTable['output_type'] = 'display_data';\n",
              "          await google.colab.output.renderOutput(dataTable, element);\n",
              "          const docLink = document.createElement('div');\n",
              "          docLink.innerHTML = docLinkHtml;\n",
              "          element.appendChild(docLink);\n",
              "        }\n",
              "      </script>\n",
              "    </div>\n",
              "  </div>\n",
              "  "
            ]
          },
          "metadata": {},
          "execution_count": 72
        }
      ]
    },
    {
      "cell_type": "code",
      "source": [
        "df.tail()"
      ],
      "metadata": {
        "colab": {
          "base_uri": "https://localhost:8080/",
          "height": 206
        },
        "id": "p9J9bbSe3czW",
        "outputId": "fd49e0e9-2cfe-4b7a-e159-2d5a389cb65a"
      },
      "execution_count": 73,
      "outputs": [
        {
          "output_type": "execute_result",
          "data": {
            "text/plain": [
              "      Temperature   Humidity        pH    Rainfall    Label\n",
              "6995    19.194357  35.963156  6.425478  762.042570  Mustard\n",
              "6996    23.493703  31.379660  6.134113  765.190596  Mustard\n",
              "6997    18.190361  42.783204  6.872391  904.892120  Mustard\n",
              "6998    23.148364  41.001895  6.185536  731.770490  Mustard\n",
              "6999    24.180054  42.368177  6.473565  906.173454  Mustard"
            ],
            "text/html": [
              "\n",
              "  <div id=\"df-3134ac4d-107e-45ca-aa1e-04c344beafa5\">\n",
              "    <div class=\"colab-df-container\">\n",
              "      <div>\n",
              "<style scoped>\n",
              "    .dataframe tbody tr th:only-of-type {\n",
              "        vertical-align: middle;\n",
              "    }\n",
              "\n",
              "    .dataframe tbody tr th {\n",
              "        vertical-align: top;\n",
              "    }\n",
              "\n",
              "    .dataframe thead th {\n",
              "        text-align: right;\n",
              "    }\n",
              "</style>\n",
              "<table border=\"1\" class=\"dataframe\">\n",
              "  <thead>\n",
              "    <tr style=\"text-align: right;\">\n",
              "      <th></th>\n",
              "      <th>Temperature</th>\n",
              "      <th>Humidity</th>\n",
              "      <th>pH</th>\n",
              "      <th>Rainfall</th>\n",
              "      <th>Label</th>\n",
              "    </tr>\n",
              "  </thead>\n",
              "  <tbody>\n",
              "    <tr>\n",
              "      <th>6995</th>\n",
              "      <td>19.194357</td>\n",
              "      <td>35.963156</td>\n",
              "      <td>6.425478</td>\n",
              "      <td>762.042570</td>\n",
              "      <td>Mustard</td>\n",
              "    </tr>\n",
              "    <tr>\n",
              "      <th>6996</th>\n",
              "      <td>23.493703</td>\n",
              "      <td>31.379660</td>\n",
              "      <td>6.134113</td>\n",
              "      <td>765.190596</td>\n",
              "      <td>Mustard</td>\n",
              "    </tr>\n",
              "    <tr>\n",
              "      <th>6997</th>\n",
              "      <td>18.190361</td>\n",
              "      <td>42.783204</td>\n",
              "      <td>6.872391</td>\n",
              "      <td>904.892120</td>\n",
              "      <td>Mustard</td>\n",
              "    </tr>\n",
              "    <tr>\n",
              "      <th>6998</th>\n",
              "      <td>23.148364</td>\n",
              "      <td>41.001895</td>\n",
              "      <td>6.185536</td>\n",
              "      <td>731.770490</td>\n",
              "      <td>Mustard</td>\n",
              "    </tr>\n",
              "    <tr>\n",
              "      <th>6999</th>\n",
              "      <td>24.180054</td>\n",
              "      <td>42.368177</td>\n",
              "      <td>6.473565</td>\n",
              "      <td>906.173454</td>\n",
              "      <td>Mustard</td>\n",
              "    </tr>\n",
              "  </tbody>\n",
              "</table>\n",
              "</div>\n",
              "      <button class=\"colab-df-convert\" onclick=\"convertToInteractive('df-3134ac4d-107e-45ca-aa1e-04c344beafa5')\"\n",
              "              title=\"Convert this dataframe to an interactive table.\"\n",
              "              style=\"display:none;\">\n",
              "        \n",
              "  <svg xmlns=\"http://www.w3.org/2000/svg\" height=\"24px\"viewBox=\"0 0 24 24\"\n",
              "       width=\"24px\">\n",
              "    <path d=\"M0 0h24v24H0V0z\" fill=\"none\"/>\n",
              "    <path d=\"M18.56 5.44l.94 2.06.94-2.06 2.06-.94-2.06-.94-.94-2.06-.94 2.06-2.06.94zm-11 1L8.5 8.5l.94-2.06 2.06-.94-2.06-.94L8.5 2.5l-.94 2.06-2.06.94zm10 10l.94 2.06.94-2.06 2.06-.94-2.06-.94-.94-2.06-.94 2.06-2.06.94z\"/><path d=\"M17.41 7.96l-1.37-1.37c-.4-.4-.92-.59-1.43-.59-.52 0-1.04.2-1.43.59L10.3 9.45l-7.72 7.72c-.78.78-.78 2.05 0 2.83L4 21.41c.39.39.9.59 1.41.59.51 0 1.02-.2 1.41-.59l7.78-7.78 2.81-2.81c.8-.78.8-2.07 0-2.86zM5.41 20L4 18.59l7.72-7.72 1.47 1.35L5.41 20z\"/>\n",
              "  </svg>\n",
              "      </button>\n",
              "      \n",
              "  <style>\n",
              "    .colab-df-container {\n",
              "      display:flex;\n",
              "      flex-wrap:wrap;\n",
              "      gap: 12px;\n",
              "    }\n",
              "\n",
              "    .colab-df-convert {\n",
              "      background-color: #E8F0FE;\n",
              "      border: none;\n",
              "      border-radius: 50%;\n",
              "      cursor: pointer;\n",
              "      display: none;\n",
              "      fill: #1967D2;\n",
              "      height: 32px;\n",
              "      padding: 0 0 0 0;\n",
              "      width: 32px;\n",
              "    }\n",
              "\n",
              "    .colab-df-convert:hover {\n",
              "      background-color: #E2EBFA;\n",
              "      box-shadow: 0px 1px 2px rgba(60, 64, 67, 0.3), 0px 1px 3px 1px rgba(60, 64, 67, 0.15);\n",
              "      fill: #174EA6;\n",
              "    }\n",
              "\n",
              "    [theme=dark] .colab-df-convert {\n",
              "      background-color: #3B4455;\n",
              "      fill: #D2E3FC;\n",
              "    }\n",
              "\n",
              "    [theme=dark] .colab-df-convert:hover {\n",
              "      background-color: #434B5C;\n",
              "      box-shadow: 0px 1px 3px 1px rgba(0, 0, 0, 0.15);\n",
              "      filter: drop-shadow(0px 1px 2px rgba(0, 0, 0, 0.3));\n",
              "      fill: #FFFFFF;\n",
              "    }\n",
              "  </style>\n",
              "\n",
              "      <script>\n",
              "        const buttonEl =\n",
              "          document.querySelector('#df-3134ac4d-107e-45ca-aa1e-04c344beafa5 button.colab-df-convert');\n",
              "        buttonEl.style.display =\n",
              "          google.colab.kernel.accessAllowed ? 'block' : 'none';\n",
              "\n",
              "        async function convertToInteractive(key) {\n",
              "          const element = document.querySelector('#df-3134ac4d-107e-45ca-aa1e-04c344beafa5');\n",
              "          const dataTable =\n",
              "            await google.colab.kernel.invokeFunction('convertToInteractive',\n",
              "                                                     [key], {});\n",
              "          if (!dataTable) return;\n",
              "\n",
              "          const docLinkHtml = 'Like what you see? Visit the ' +\n",
              "            '<a target=\"_blank\" href=https://colab.research.google.com/notebooks/data_table.ipynb>data table notebook</a>'\n",
              "            + ' to learn more about interactive tables.';\n",
              "          element.innerHTML = '';\n",
              "          dataTable['output_type'] = 'display_data';\n",
              "          await google.colab.output.renderOutput(dataTable, element);\n",
              "          const docLink = document.createElement('div');\n",
              "          docLink.innerHTML = docLinkHtml;\n",
              "          element.appendChild(docLink);\n",
              "        }\n",
              "      </script>\n",
              "    </div>\n",
              "  </div>\n",
              "  "
            ]
          },
          "metadata": {},
          "execution_count": 73
        }
      ]
    },
    {
      "cell_type": "code",
      "source": [
        "df.columns"
      ],
      "metadata": {
        "colab": {
          "base_uri": "https://localhost:8080/"
        },
        "id": "_j6g_tRM3eUV",
        "outputId": "e5742541-a659-4458-a375-1f393ac8d494"
      },
      "execution_count": 74,
      "outputs": [
        {
          "output_type": "execute_result",
          "data": {
            "text/plain": [
              "Index(['Temperature', 'Humidity', 'pH', 'Rainfall', 'Label'], dtype='object')"
            ]
          },
          "metadata": {},
          "execution_count": 74
        }
      ]
    },
    {
      "cell_type": "code",
      "source": [
        "df.shape"
      ],
      "metadata": {
        "colab": {
          "base_uri": "https://localhost:8080/"
        },
        "id": "14QQCf_v3gk0",
        "outputId": "ba09d126-bf22-4ff6-edce-b9fa532c6216"
      },
      "execution_count": 75,
      "outputs": [
        {
          "output_type": "execute_result",
          "data": {
            "text/plain": [
              "(7000, 5)"
            ]
          },
          "metadata": {},
          "execution_count": 75
        }
      ]
    },
    {
      "cell_type": "code",
      "source": [
        "df.nunique()"
      ],
      "metadata": {
        "colab": {
          "base_uri": "https://localhost:8080/"
        },
        "id": "yXGU7an43k5P",
        "outputId": "301b2bf6-7488-4f8f-f058-e6fa8734d340"
      },
      "execution_count": 76,
      "outputs": [
        {
          "output_type": "execute_result",
          "data": {
            "text/plain": [
              "Temperature    6999\n",
              "Humidity       6999\n",
              "pH             6995\n",
              "Rainfall       7000\n",
              "Label            70\n",
              "dtype: int64"
            ]
          },
          "metadata": {},
          "execution_count": 76
        }
      ]
    },
    {
      "cell_type": "code",
      "source": [
        "df.dtypes"
      ],
      "metadata": {
        "colab": {
          "base_uri": "https://localhost:8080/"
        },
        "id": "roH6EcZH3pKg",
        "outputId": "e87371a5-e561-4171-a0b4-5bb97bb9f54f"
      },
      "execution_count": 77,
      "outputs": [
        {
          "output_type": "execute_result",
          "data": {
            "text/plain": [
              "Temperature    float64\n",
              "Humidity       float64\n",
              "pH             float64\n",
              "Rainfall       float64\n",
              "Label           object\n",
              "dtype: object"
            ]
          },
          "metadata": {},
          "execution_count": 77
        }
      ]
    },
    {
      "cell_type": "code",
      "source": [
        "df['Label'].value_counts()"
      ],
      "metadata": {
        "colab": {
          "base_uri": "https://localhost:8080/"
        },
        "id": "gnvJgkOg3zHS",
        "outputId": "164c6eb4-b24e-4354-bc2f-a47409d08cff"
      },
      "execution_count": 78,
      "outputs": [
        {
          "output_type": "execute_result",
          "data": {
            "text/plain": [
              "Rice              100\n",
              "Lettuce           100\n",
              "Rajma             100\n",
              "Turmeric          100\n",
              "Guava             100\n",
              "                 ... \n",
              "Green Chillies    100\n",
              "Carrot            100\n",
              "Ginger            100\n",
              "Garlic            100\n",
              "Mustard           100\n",
              "Name: Label, Length: 70, dtype: int64"
            ]
          },
          "metadata": {},
          "execution_count": 78
        }
      ]
    },
    {
      "cell_type": "code",
      "source": [
        "#Seperating features and target label\n",
        "features = df[['Temperature', 'Humidity', 'pH', 'Rainfall']]\n",
        "target = df['Label']\n",
        "labels = df['Label']"
      ],
      "metadata": {
        "id": "dpDYVCwk4Bkb"
      },
      "execution_count": 79,
      "outputs": []
    },
    {
      "cell_type": "code",
      "source": [
        "# Initializing empty lists to append all model's name and corresponding name\n",
        "acc = []\n",
        "model = []"
      ],
      "metadata": {
        "id": "WO6PwVi14G4t"
      },
      "execution_count": 80,
      "outputs": []
    },
    {
      "cell_type": "code",
      "source": [
        " #Splitting into train and test data\n",
        "from sklearn.model_selection import train_test_split\n",
        "Xtrain, Xtest, Ytrain, Ytest = train_test_split(features,target,test_size = 0.2,random_state =2)"
      ],
      "metadata": {
        "id": "fT_QI-ON4JoO"
      },
      "execution_count": 81,
      "outputs": []
    },
    {
      "cell_type": "code",
      "source": [
        "#Random Forest\n",
        "from sklearn.ensemble import RandomForestClassifier\n",
        "RF = RandomForestClassifier(n_estimators=20, random_state=0)\n",
        "RF.fit(Xtrain,Ytrain)\n",
        "predicted_values = RF.predict(Xtest)\n",
        "x = metrics.accuracy_score(Ytest, predicted_values)\n",
        "acc.append(x)\n",
        "model.append('RF')\n",
        "print(\"RF's Accuracy is: \", x)\n",
        "print(classification_report(Ytest,predicted_values))"
      ],
      "metadata": {
        "colab": {
          "base_uri": "https://localhost:8080/"
        },
        "id": "qae-gVBw4YPc",
        "outputId": "536173c3-075a-43c7-a916-fcfe41934352"
      },
      "execution_count": 82,
      "outputs": [
        {
          "output_type": "stream",
          "name": "stdout",
          "text": [
            "RF's Accuracy is:  0.965\n",
            "                  precision    recall  f1-score   support\n",
            "\n",
            "        Aleovera       1.00      1.00      1.00        24\n",
            "           Apple       0.92      0.96      0.94        25\n",
            "        Arecanut       0.95      0.95      0.95        20\n",
            "     Ashwagandha       0.93      1.00      0.97        14\n",
            "           Bajra       1.00      1.00      1.00        23\n",
            "          Banana       1.00      1.00      1.00        24\n",
            "        Beetroot       1.00      1.00      1.00        21\n",
            "       Blackgram       1.00      1.00      1.00        28\n",
            "         Brinjal       0.88      1.00      0.94        23\n",
            "        Broccoli       1.00      1.00      1.00        24\n",
            "Button Mushrooms       0.75      0.88      0.81        24\n",
            "        Cabbagge       0.96      1.00      0.98        23\n",
            "        Capsicum       0.84      1.00      0.91        16\n",
            "          Carrot       1.00      1.00      1.00        14\n",
            "      Cashewnuts       1.00      0.95      0.98        21\n",
            "     Cauliflower       1.00      1.00      1.00        18\n",
            "        Chickpea       1.00      1.00      1.00        23\n",
            " Chinese Cabbage       0.88      0.70      0.78        20\n",
            "         Coconut       1.00      1.00      1.00        19\n",
            "          Coffee       0.90      0.83      0.86        23\n",
            "       Coriander       1.00      0.91      0.95        23\n",
            "            Corn       0.92      0.92      0.92        12\n",
            "          Cotton       0.95      1.00      0.97        19\n",
            "        Cucumber       0.81      0.93      0.87        14\n",
            "     DragonFruit       1.00      1.00      1.00        32\n",
            "       Drumstick       1.00      1.00      1.00        16\n",
            "    French Beans       1.00      1.00      1.00        28\n",
            "          Garlic       1.00      1.00      1.00        18\n",
            "          Ginger       1.00      1.00      1.00        17\n",
            "          Grapes       1.00      0.96      0.98        24\n",
            "  Green Chillies       0.95      1.00      0.97        18\n",
            "      Green Peas       1.00      1.00      1.00        20\n",
            "       Groundnut       1.00      1.00      1.00        18\n",
            "           Guava       1.00      1.00      1.00        17\n",
            "       Jackfruit       1.00      1.00      1.00        14\n",
            "            Jute       0.95      0.95      0.95        21\n",
            "     Kidneybeans       1.00      1.00      1.00        21\n",
            "   Lady's Finger       1.00      1.00      1.00        16\n",
            "         Lettuce       1.00      1.00      1.00        14\n",
            "          Litchi       0.92      0.92      0.92        26\n",
            "           Maize       0.95      1.00      0.98        21\n",
            "           Mango       0.94      1.00      0.97        15\n",
            "        Marigold       1.00      0.96      0.98        25\n",
            "       Mothbeans       1.00      0.94      0.97        18\n",
            "       Mungbeans       1.00      0.95      0.98        22\n",
            "       Muskmelon       1.00      1.00      1.00        16\n",
            "         Mustard       0.96      1.00      0.98        22\n",
            "           Olive       1.00      0.96      0.98        23\n",
            "           Onion       1.00      1.00      1.00        20\n",
            "          Orange       0.88      0.92      0.90        25\n",
            "          Papaya       1.00      1.00      1.00        21\n",
            "      Piegonpeas       1.00      0.86      0.93        22\n",
            "     Pomegranate       0.91      0.84      0.87        25\n",
            "     Poppy Seeds       1.00      1.00      1.00        20\n",
            "          Potato       0.94      1.00      0.97        16\n",
            "          Pulses       0.93      1.00      0.97        14\n",
            "         Pumpkin       0.95      1.00      0.97        18\n",
            "          Radish       1.00      1.00      1.00        21\n",
            "           Rajma       1.00      1.00      1.00        22\n",
            "            Rice       0.92      0.61      0.73        18\n",
            "            Rose       0.83      0.95      0.89        21\n",
            "         Soybean       1.00      1.00      1.00        14\n",
            "         Spinach       1.00      0.89      0.94        19\n",
            "       Sugarcane       1.00      1.00      1.00        23\n",
            "    Sweet Potato       0.93      0.88      0.90        16\n",
            "             Tea       1.00      1.00      1.00        13\n",
            "          Tomato       1.00      1.00      1.00        20\n",
            "        Turmeric       1.00      1.00      1.00        17\n",
            "         Walnuts       1.00      1.00      1.00        24\n",
            "      Watermelon       0.93      1.00      0.97        14\n",
            "\n",
            "        accuracy                           0.96      1400\n",
            "       macro avg       0.97      0.97      0.96      1400\n",
            "    weighted avg       0.97      0.96      0.96      1400\n",
            "\n"
          ]
        }
      ]
    },
    {
      "cell_type": "code",
      "source": [
        "#Saving trained Random Forest model\n",
        "import pickle\n",
        "\n",
        "# Dump the trained Naive Bayes classifier with Pickle\n",
        "RF_pkl_filename = 'RandomForest.pkl'\n",
        "\n",
        "# Open the file to save as pkl file\n",
        "RF_Model_pkl = open(RF_pkl_filename, 'wb')\n",
        "pickle.dump(RF, RF_Model_pkl)\n",
        "\n",
        "# Close the pickle instances\n",
        "RF_Model_pkl.close()"
      ],
      "metadata": {
        "id": "vtZpDDAc4t7l"
      },
      "execution_count": 83,
      "outputs": []
    },
    {
      "cell_type": "code",
      "source": [
        "data = np.array([[45, 88, 7.6, 400]])\n",
        "prediction = RF.predict(data)\n",
        "print(prediction)"
      ],
      "metadata": {
        "colab": {
          "base_uri": "https://localhost:8080/"
        },
        "id": "9Yy7AZ6W5T95",
        "outputId": "c04635f7-9f45-48cf-9f2c-e7bf4c0b7039"
      },
      "execution_count": 84,
      "outputs": [
        {
          "output_type": "stream",
          "name": "stdout",
          "text": [
            "['Jackfruit']\n"
          ]
        }
      ]
    },
    {
      "cell_type": "code",
      "source": [
        "data = np.array([[12, 43, 7.6, 100]])\n",
        "prediction = RF.predict(data)\n",
        "print(prediction)"
      ],
      "metadata": {
        "colab": {
          "base_uri": "https://localhost:8080/"
        },
        "id": "UQLphRos52hz",
        "outputId": "53170199-5112-46a1-affa-2e25a5af73a2"
      },
      "execution_count": 85,
      "outputs": [
        {
          "output_type": "stream",
          "name": "stdout",
          "text": [
            "['Garlic']\n"
          ]
        }
      ]
    },
    {
      "cell_type": "code",
      "source": [
        "data = np.array([[37,20,4,110]])\n",
        "prediction = RF.predict(data)\n",
        "print(prediction)"
      ],
      "metadata": {
        "colab": {
          "base_uri": "https://localhost:8080/"
        },
        "id": "jd6P5hA166OJ",
        "outputId": "4d8eed3c-6016-41d9-d3ae-ec00b7c4cda7"
      },
      "execution_count": 86,
      "outputs": [
        {
          "output_type": "stream",
          "name": "stdout",
          "text": [
            "['Kidneybeans']\n"
          ]
        }
      ]
    },
    {
      "cell_type": "code",
      "source": [
        "%%writefile CropRecommedation.py\n",
        "import streamlit as st\n",
        "# loading the saved model\n",
        "loaded_model = pickle.load(open('RandomForest.pkl', 'rb'))\n",
        "# creating a function for Prediction\n",
        "def crop_prediction(input_data):\n",
        "# changing the input_data to numpy array\n",
        "    input_data_as_numpy_array = np.asarray(input_data)\n",
        "# reshape the array as we are predicting for one instance\n",
        "    input_data_reshaped = input_data_as_numpy_array.reshape(1,-1)\n",
        "    prediction = loaded_model.predict(input_data_reshaped)\n",
        "    print(prediction)\n",
        "def main():\n",
        "# giving a title\n",
        "    st.title('StrawHats-Crop Prediction App')\n",
        "# getting the input data from the user\n",
        "    Temperature = st.text_input('Enter the Temperature')\n",
        "    Humidity= st.text_input('Enter the Humidity')\n",
        "    pH = st.text_input('Enter the pH')\n",
        "    Rainfall = st.text_input('Enter the Rainfall')\n",
        "# code for Prediction\n",
        "    predict = ''\n",
        "# creating a button for Prediction\n",
        "    if st.button('Crop Prediction Test Result'):\n",
        "        predict = crop_prediction([Temperature,Humidity,pH,Rainfall])\n",
        "    st.success(predict)\n",
        "if __name__ == '__main__':\n",
        "    main()"
      ],
      "metadata": {
        "colab": {
          "base_uri": "https://localhost:8080/"
        },
        "id": "P7EE-R_vBkmh",
        "outputId": "76340743-a6bf-467c-ffce-0c3c1ec4f462"
      },
      "execution_count": 91,
      "outputs": [
        {
          "output_type": "stream",
          "name": "stdout",
          "text": [
            "Overwriting CropRecommedation.py\n"
          ]
        }
      ]
    }
  ]
}